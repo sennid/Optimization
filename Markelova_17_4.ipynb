{
  "nbformat": 4,
  "nbformat_minor": 0,
  "metadata": {
    "colab": {
      "provenance": []
    },
    "kernelspec": {
      "name": "python3",
      "display_name": "Python 3"
    },
    "language_info": {
      "name": "python"
    }
  },
  "cells": [
    {
      "cell_type": "code",
      "execution_count": 1,
      "metadata": {
        "id": "86S1trYZYe-d"
      },
      "outputs": [],
      "source": [
        "import numpy as np\n",
        "import cvxpy as cp\n",
        "import matplotlib.pyplot as plt\n",
        "import pandas as pd"
      ]
    },
    {
      "cell_type": "code",
      "source": [
        "x = np.array([0.1, 0.2, -0.05, 0.1])\n",
        "Sigma = cp.Variable((4, 4), symmetric=True)\n",
        "\n",
        "problem = cp.Problem(cp.Maximize(x.T @ Sigma @ x), [Sigma[0,0] == 0.2, Sigma[1,1] == 0.1, Sigma[2,2] == 0.3, Sigma[3,3] == 0.1, \n",
        "                                                    Sigma[0,1] >=0, Sigma[0,2] >= 0, Sigma[1,2] <= 0, Sigma[1,3] <= 0, Sigma[2,3] >= 0, Sigma >> 0])\n",
        "problem.solve()"
      ],
      "metadata": {
        "colab": {
          "base_uri": "https://localhost:8080/"
        },
        "id": "9_cyf20cYwYn",
        "outputId": "bac98f27-87da-448f-9f13-70a07a8b0608"
      },
      "execution_count": 2,
      "outputs": [
        {
          "output_type": "execute_result",
          "data": {
            "text/plain": [
              "0.01516610123309048"
            ]
          },
          "metadata": {},
          "execution_count": 2
        }
      ]
    },
    {
      "cell_type": "code",
      "source": [
        "print('Worst-case sigma', np.sqrt(x.T @ Sigma.value @ x))\n",
        "print('Sigma', Sigma.value)"
      ],
      "metadata": {
        "colab": {
          "base_uri": "https://localhost:8080/"
        },
        "id": "boXmrPS4e3F9",
        "outputId": "5a78aa12-ca13-405d-9430-664e3f704cc4"
      },
      "execution_count": 3,
      "outputs": [
        {
          "output_type": "stream",
          "name": "stdout",
          "text": [
            "Worst-case sigma 0.12315072567017411\n",
            "Sigma [[ 2.00000000e-01  9.33324323e-02  9.31686603e-07  8.30130856e-02]\n",
            " [ 9.33324323e-02  1.00000000e-01 -1.09983027e-01 -6.03504496e-07]\n",
            " [ 9.31686603e-07 -1.09983027e-01  3.00000000e-01  1.77084868e-02]\n",
            " [ 8.30130856e-02 -6.03504496e-07  1.77084868e-02  9.99999995e-02]]\n"
          ]
        }
      ]
    },
    {
      "cell_type": "code",
      "source": [
        "np.diag(np.diag(Sigma.value))"
      ],
      "metadata": {
        "colab": {
          "base_uri": "https://localhost:8080/"
        },
        "id": "MAYBA6AgsOxj",
        "outputId": "349c2275-ab2a-436b-9f3c-af89078accd0"
      },
      "execution_count": null,
      "outputs": [
        {
          "output_type": "execute_result",
          "data": {
            "text/plain": [
              "array([[0.2, 0. , 0. , 0. ],\n",
              "       [0. , 0.1, 0. , 0. ],\n",
              "       [0. , 0. , 0.3, 0. ],\n",
              "       [0. , 0. , 0. , 0.1]])"
            ]
          },
          "metadata": {},
          "execution_count": 20
        }
      ]
    },
    {
      "cell_type": "markdown",
      "source": [
        "Diagonal Sigma"
      ],
      "metadata": {
        "id": "mSltUo2ufeUA"
      }
    },
    {
      "cell_type": "code",
      "source": [
        "x = np.array([0.1, 0.2, -0.05, 0.1])\n",
        "Sigma = cp.Variable((4, 4), symmetric=True)\n",
        "\n",
        "problem = cp.Problem(cp.Maximize(x.T @ Sigma @ x), [Sigma[0,0] == 0.2, Sigma[1,1] == 0.1, Sigma[2,2] == 0.3, Sigma[3,3] == 0.1, Sigma[0,1] >= 0,\n",
        "                                                    Sigma[0,1] == 0, Sigma[0,2] == 0, Sigma[0,3] == 0, Sigma[1,2] == 0, Sigma[1,3] == 0, Sigma[2,3] == 0, Sigma >> 0])\n",
        "problem.solve()\n"
      ],
      "metadata": {
        "colab": {
          "base_uri": "https://localhost:8080/"
        },
        "id": "L_QBh6Scfg8y",
        "outputId": "c41eb075-9573-4815-ee89-31aac14b733b"
      },
      "execution_count": 4,
      "outputs": [
        {
          "output_type": "execute_result",
          "data": {
            "text/plain": [
              "0.007750000085938451"
            ]
          },
          "metadata": {},
          "execution_count": 4
        }
      ]
    },
    {
      "cell_type": "code",
      "source": [
        "print('Worst-case sigma', np.sqrt(x.T @ Sigma.value @ x))\n",
        "print('Sigma', Sigma.value)"
      ],
      "metadata": {
        "colab": {
          "base_uri": "https://localhost:8080/"
        },
        "id": "mxOkjPs6kAuK",
        "outputId": "79156742-7439-49bf-996d-02217f4a1809"
      },
      "execution_count": 5,
      "outputs": [
        {
          "output_type": "stream",
          "name": "stdout",
          "text": [
            "Worst-case sigma 0.08803408479639264\n",
            "Sigma [[ 2.00000003e-01 -1.56969711e-10  3.94620903e-11 -7.89241807e-11]\n",
            " [-1.56969711e-10  1.00000001e-01  7.89241815e-11 -1.57848361e-10]\n",
            " [ 3.94620903e-11  7.89241815e-11  3.00000005e-01  3.94620908e-11]\n",
            " [-7.89241807e-11 -1.57848361e-10  3.94620908e-11  1.00000001e-01]]\n"
          ]
        }
      ]
    }
  ]
}